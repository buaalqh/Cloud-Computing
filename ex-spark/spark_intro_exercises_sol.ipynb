{
 "cells": [
  {
   "cell_type": "markdown",
   "metadata": {
    "colab_type": "text",
    "id": "0NG9OG1Z6aJQ"
   },
   "source": [
    "<h1><center>Cloud Computing  et informatique distribuée</center></h1>\n",
    "\n",
    "<h2>\n",
    "<hr style=\" border:none; height:3px;\">\n",
    "<center>Exercises: Introduction to Spark</center>\n",
    "<hr style=\" border:none; height:3px;\">\n",
    "</h2>"
   ]
  },
  {
   "cell_type": "markdown",
   "metadata": {
    "colab_type": "text",
    "id": "dBwajlZM6aJQ"
   },
   "source": [
    "# 1. Introduction\n",
    "\n",
    "\n",
    "<p align=\"justify\">\n",
    "<font size=\"3\">\n",
    "In this little set of exercises you'll learn basic Spark programming skills that are necessary to develop simple, yet powerful, applications to be executed in a distributed environment.\n",
    "</font>\n",
    "</p>\n",
    "\n",
    "<p align=\"justify\">\n",
    "<font size=\"3\">\n",
    "The assignment is presented in this __Jupyter Notebook__, an interface that offers support for text, code, images and other media. Essentially, a Jupyter Notebook consists of multiple _cells_, either containing some text, like the one that you are reading, or code that you can execute. \n",
    "</font>\n",
    "</p>\n",
    "\n",
    "<p align=\"justify\">\n",
    "<font size=\"3\">\n",
    "The cells that contain code are marked with the label \"In [  ]\" that is found on the left of the cell. In order to execute the code in the cell, you need to select the cell and press Shift+Enter (hold Shift while pressing Enter). During the execution of the code, the label on the left of the cell will change to \"In [ * ]\"; when the execution is over, the asterisk is replaced by a number. \n",
    "</font>  \n",
    "    \n",
    "<font size=\"2\">\n",
    "IMPORTANT: wait for the execution of the cell to be over before proceeding in the Notebook. \n",
    "</font>\n",
    "<font size=\"3\">\n",
    "Whenever you define a variable or a function in a cell, that variable and function will be visible in the cells below. \n",
    "This means that one can split the code of an application across different cells to interleave it with textual explanations.\n",
    "    </font>\n",
    "</p>\n",
    "\n",
    "<p align=\"justify\">\n",
    "<font size=\"3\">\n",
    "Spark supports four programming languages: Scala (the one used to implement Spark itself), Java, R and Python. In this assignment we use Python.\n",
    "The assignment will guide you through the Spark programming notions by using simple examples. \n",
    "After the examples, the exercises will give you the chance to practice those notions.\n",
    "</font>\n",
    "</p>\n",
    "\n",
    "\n",
    "<p align=\"justify\">\n",
    "<font size=\"3\">\n",
    "**Apache Spark** is a cluster computing framework for parallel data processing that was conceived to address the inefficiencies of Hadoop with respect to iterative computations. \n",
    "Spark is used by both data scientists, who analyze large datasets, and engineers, who develop data processing applications. Spark allows both to concentrate on their application by hiding all the complexity of running applications in a distributed environment: distributed systems programming, network communication and fault tolerance.\n",
    "</font>\n",
    "</p>\n",
    "\n",
    "<p align=\"justify\">\n",
    "<font size=\"3\">\n",
    "In order to run a distributed computation on Spark, one has to develop a **Spark application**.\n",
    "A Spark application runs as a set of independent processes (called the _Executors_) across the machines (a.k.a., _Worker_ nodes) of a cluster, coordinated by the _Driver_, the process that runs the $main()$ function of the application.\n",
    "</font>\n",
    "</p>\n",
    "\n",
    "<p align=\"justify\">\n",
    "<font size=\"3\">\n",
    "The _Driver_ creates an object called _SparkContext_ that communicates with the underlying cluster manager and coordinates the distribution of the computation across the _Executors_.\n",
    "For example, if we were running an application to count the number of lines in a file, \n",
    "different machines might count lines in different ranges of the file. \n",
    "</font>\n",
    "</p>\n",
    "\n",
    "<p align=\"justify\">\n",
    "<hr style=\" border:none; height:2px;\">\n",
    " <font  size=\"3\" color='#91053d'>**Execute the following cell in order to initialize the _SparkContext_.**</font>\n",
    "<hr style=\" border:none; height:2px;\">\n",
    "</p>"
   ]
  },
  {
   "cell_type": "code",
   "execution_count": 1,
   "metadata": {
    "colab": {
     "base_uri": "https://localhost:8080/",
     "height": 343
    },
    "colab_type": "code",
    "id": "enV8P94A6cEi",
    "outputId": "5052143c-0dca-41b6-b533-87e967ba151b"
   },
   "outputs": [
    {
     "name": "stdout",
     "output_type": "stream",
     "text": [
      "Initialization successful\n"
     ]
    }
   ],
   "source": [
    "import pyspark\n",
    "import random\n",
    "sc = pyspark.SparkContext(appName=\"spark1\")\n",
    "print(\"Initialization successful\")\n"
   ]
  },
  {
   "cell_type": "markdown",
   "metadata": {
    "colab_type": "text",
    "id": "dzuUNBSv6aJT"
   },
   "source": [
    "# 2. Resilient Distributed Dataset (RDD)\n",
    "\n",
    "\n",
    "<p align=\"justify\">\n",
    "<font size=\"3\">\n",
    "Spark distributes the data and the computations across the machines of a cluster by using the notion of **Resilient Distributed Dataset (RDD)**. \n",
    "An RDD is an **immutable** distributed collection of data. \n",
    "Each element of an RDD can be an instance of any Python type, including a user-defined class.\n",
    "The _SparkContext_  splits an RDD into multiple _partitions_ and scatters them across different machines of the cluster. \n",
    "</font>\n",
    "</p>\n",
    "\n",
    "<p align=\"justify\">\n",
    "<font size=\"3\">\n",
    "The distribution of the partitions of an RDD is completely transparent to the application.\n",
    "The only thing a Spark application has to do is to create some RDDs and \n",
    "specify the computations on these RDDs, by using special functions that Spark provides to this purpose. \n",
    "</font>\n",
    "</p>\n",
    "\n",
    "## 2.1 Creating RDDs\n",
    "\n",
    "<p align=\"justify\">\n",
    "<font size=\"3\">\n",
    "Spark provides two ways to create an RDD:\n",
    "\n",
    "<ul>\n",
    "<li> By distributing a collection of objects.\n",
    "<li> By loading an external dataset (either in a file or a database).\n",
    "</ul>\n",
    "</font>\n",
    "</p>\n",
    "\n",
    "<hr style=\"border:2px solid;\">\n",
    "\n",
    "<p>\n",
    "<font size=\"3\" color='#91053d'>**Execute the following code to create an RDD called $words$, where each element is a string taken from the list $wordList$.**</font>\n",
    "</p>\n",
    "<hr style=\"border:2px solid;\">"
   ]
  },
  {
   "cell_type": "code",
   "execution_count": 2,
   "metadata": {
    "autoscroll": "json-false",
    "colab": {
     "base_uri": "https://localhost:8080/",
     "height": 34
    },
    "colab_type": "code",
    "ein.tags": [
     "worksheet-0"
    ],
    "id": "HMSUe1Z66aJU",
    "outputId": "744b4bde-c86d-4a55-f76e-b967a83ec31d",
    "scrolled": true
   },
   "outputs": [
    {
     "name": "stdout",
     "output_type": "stream",
     "text": [
      "Done!\n"
     ]
    }
   ],
   "source": [
    "wordList = [\"Al\", \"Ani\", \"Jackie\", \"Lalitha\", \"Mark\", \"Neil\", \"Nick\", \"Shirin\", \"Jackie\", \"Mark\", \"Ani\", \"Mark\"]\n",
    "words = sc.parallelize(wordList)\n",
    "print(\"Done!\")"
   ]
  },
  {
   "cell_type": "markdown",
   "metadata": {
    "colab_type": "text",
    "ein.tags": [
     "worksheet-0"
    ],
    "id": "Bp6vVZWH6aJW"
   },
   "source": [
    "<p align=\"justify\">\n",
    "<font size=\"3\">\n",
    "Once created, Spark provides two types of  operations on a RDD:\n",
    "<ol>\n",
    "<li> **Transformations**. A transformation takes in one or more RDDs and returns a new RDD.\n",
    "<li> **Actions**. An action takes in an RDD and outputs a value.\n",
    "</ol>\n",
    "</font>\n",
    "</p>\n",
    "\n",
    "<p>\n",
    "</p>\n",
    "\n",
    "<p align=\"justify\">\n",
    "<font size=\"3\">\n",
    "One common transformation is filtering data that matches a predicate by using the function $filter$.\n",
    "The function $filter$ is applied on an RDD and takes in a predicate.\n",
    "It loops through each element of the RDD and verifies whether that element satisfies the predicate. The function $filter$ outputs a new RDD whose elements are those that satisfy the predicate.\n",
    "</font>\n",
    "</p>\n",
    "\n",
    "<hr style=\" border:2px solid;\">\n",
    "<p>\n",
    "\n",
    " <font size=\"3\" color='#91053d'>**Execute the following code to create an RDD called $nNames$ by retaining only the names whose first letter is 'N' from the RDD $words$ .**</font>\n",
    "\n",
    "</p>\n",
    "<hr style=\" border:2px solid;\">"
   ]
  },
  {
   "cell_type": "code",
   "execution_count": 3,
   "metadata": {
    "colab": {
     "base_uri": "https://localhost:8080/",
     "height": 34
    },
    "colab_type": "code",
    "id": "PYkR-scr6aJW",
    "outputId": "631b0024-6b90-4c0d-ce4a-a9fa4c593146"
   },
   "outputs": [
    {
     "name": "stdout",
     "output_type": "stream",
     "text": [
      "done!\n"
     ]
    }
   ],
   "source": [
    "'''\n",
    "As mentioned before, the function filter takes in a predicate that is itself a function (returning a boolean value).\n",
    "An elegant way to pass a function to a function in Python is the lambda notation.\n",
    "\n",
    "In the code below, the argument of the function filter is a function that takes in a variable called \n",
    "\"name\"; the type of this variable must match the type of the elements of the RDD words, in this case \n",
    "a string.\n",
    "Then the function returns whether the first character of the string \"name\" is N. \n",
    "\n",
    "Another way to express the same thing without the lambda notation would be to explicitly define the predicate, \n",
    "as follows:\n",
    "\n",
    "def predicate(name):\n",
    "    return name[:1]=='N'\n",
    "\n",
    "nNames = words.filter(predicate)\n",
    "\n",
    "'''\n",
    "nNames = words.filter(lambda name: name[:1]=='N') \n",
    "print(\"done!\")"
   ]
  },
  {
   "cell_type": "markdown",
   "metadata": {
    "colab_type": "text",
    "id": "M-ifOvsg6aJY"
   },
   "source": [
    "<p align=\"justify\">\n",
    "<font size=\"3\">\n",
    "The transformation $filter$ above is not executed by Spark until an action is called on the RDD $nNames$.\n",
    "In general, Spark postpones the execution of a transformation on a RDD to when an action is invoked on the RDD itself. This is called **lazy evaluation**. The reason for this approach will be clearer in the next example.\n",
    "    </font>\n",
    "</p>\n",
    "\n",
    "<p align=\"justify\">\n",
    "<font size=\"3\">\n",
    "One example of action is the function $first()$ that returns the first element in the RDD.\n",
    "    </font>\n",
    "</p>\n",
    "\n",
    "<hr style=\" border:2px solid;\">\n",
    "<p>\n",
    " <font size=\"3\" color='#91053d'>**Execute the following code to print the first element of the RDD $nNames$.**</font>\n",
    "</p>\n",
    "<hr style=\" border:2px solid;\">"
   ]
  },
  {
   "cell_type": "code",
   "execution_count": 4,
   "metadata": {
    "colab": {
     "base_uri": "https://localhost:8080/",
     "height": 34
    },
    "colab_type": "code",
    "id": "Ck-2pfIu6aJZ",
    "outputId": "b2a0c599-1f4b-46d4-8b3c-95af07b25bb6"
   },
   "outputs": [
    {
     "name": "stdout",
     "output_type": "stream",
     "text": [
      "Neil\n"
     ]
    }
   ],
   "source": [
    "'''\n",
    "REMEMBER: the variable nNames has been defined in the cell above, so \n",
    "it is VISIBLE in this cell as well as in the cells below the current one\n",
    "'''\n",
    "print(nNames.first())"
   ]
  },
  {
   "cell_type": "markdown",
   "metadata": {
    "colab_type": "text",
    "id": "bA4ty9jh6aJb"
   },
   "source": [
    "<p align=\"justify\">\n",
    "<font size=\"3\">\n",
    "The previous example clearly shows that a Spark application is essentially a sequence of operations that create, transform and perform some actions on RDDs.\n",
    "</font>\n",
    "</p>\n",
    "\n",
    "<p align=\"justify\">\n",
    "<font size=\"3\">\n",
    "The following code shows an example of creation of RDD from an external dataset, more precisely a text file that contains log information of a Neo4j database. \n",
    "The function $textFile()$ takes in the path to the input text file and returns an RDD, where each element is a line of the file.\n",
    "The code goes through the following steps:\n",
    "\n",
    "<ol>\n",
    "<li> **RDD creation**. Creates a RDD called $lines$, where each element is a line from the input text file.\n",
    "<li> **Transformation filter**. Creates a RDD called $exceptions$ from the RDD $lines$ by only retaining the lines containing the string \"exception\".\n",
    "<li> **Action count()**. Counts the number of elements of the RDD $exceptions$. \n",
    "<li> **Action take**. Prints the first line of the RDD $exceptions$. \n",
    "</ol>\n",
    "</font>\n",
    "</p>\n",
    "\n",
    "<p>\n",
    "</p>\n",
    "\n",
    "<p align=\"justify\">\n",
    "<font size=\"3\">\n",
    "Here we can see the advantage of the _lazy evaluation_ of transformations. \n",
    "Spark does not execute the function $textFile()$ as soon as it is invoked, which would result\n",
    "in loading into main memory the whole content of the log file (it can be very large). \n",
    "Instead, it waits until the first action $count()$ is invoked.\n",
    "Since this action is called on a filtered version of the RDD $lines$, \n",
    "Spark will load into memory only the lines that contain the word \"exception\".\n",
    "</font>\n",
    "</p>\n",
    "\n",
    "<hr style=\" border:2px solid;\">\n",
    "<p>\n",
    " <font size=\"3\" color='#91053d'>**Execute the following code.**</font>\n",
    "</p>\n",
    "<hr style=\" border:2px solid;\">"
   ]
  },
  {
   "cell_type": "code",
   "execution_count": 5,
   "metadata": {
    "autoscroll": "json-false",
    "colab": {
     "base_uri": "https://localhost:8080/",
     "height": 1000
    },
    "colab_type": "code",
    "ein.tags": [
     "worksheet-0"
    ],
    "id": "jn9z61M86aJb",
    "outputId": "f2765f04-8183-45df-95f3-4930a95078cc"
   },
   "outputs": [
    {
     "name": "stdout",
     "output_type": "stream",
     "text": [
      "Number of exception lines  5\n"
     ]
    },
    {
     "data": {
      "text/plain": [
       "['2017-10-06 13:12:26.097+0000 ERROR Failed to start Neo4j: Starting Neo4j failed: Component \\'org.neo4j.server.database.LifecycleManagingDatabase@2814f71a\\' was successfully initialized, but failed to start. Please see the attached cause exception \"Format version is not supported (resource BufferedChecksumIndexInput(MMapIndexInput(path=\"/Users/quercini_gia/Documents/software/neo4j-community-3.2.5/data/databases/social-network/upgrade/index/lucene/relationship/crosslinks/segments_1\"))): -11 (needs to be between 1071082519 and 1071082519). This version of Lucene only supports indexes created with release 4.0 and later.\". Starting Neo4j failed: Component \\'org.neo4j.server.database.LifecycleManagingDatabase@2814f71a\\' was successfully initialized, but failed to start. Please see the attached cause exception \"Format version is not supported (resource BufferedChecksumIndexInput(MMapIndexInput(path=\"/Users/quercini_gia/Documents/software/neo4j-community-3.2.5/data/databases/social-network/upgrade/index/lucene/relationship/crosslinks/segments_1\"))): -11 (needs to be between 1071082519 and 1071082519). This version of Lucene only supports indexes created with release 4.0 and later.\".']"
      ]
     },
     "execution_count": 5,
     "metadata": {},
     "output_type": "execute_result"
    }
   ],
   "source": [
    "data_file = \"neo4j.log\"\n",
    "\n",
    "# 1. RDD creation\n",
    "lines = sc.textFile(data_file)\n",
    "\n",
    "#2. RDD filter\n",
    "exceptions = lines.filter(lambda line : \"exception\" in line)\n",
    "\n",
    "#3. Action count()\n",
    "nbLines = exceptions.count()\n",
    "print(\"Number of exception lines \", nbLines)\n",
    "\n",
    "'''\n",
    "IMPORTANT: The output shows the first line of the log file that contains \n",
    "words such as \"ERROR\" and \"failed\".\n",
    "This does not mean that Spark is raising an error; \n",
    "it is just showing the content of the input file.\n",
    "So everything's fine :)\n",
    "'''\n",
    "\n",
    "#4. Print first line.\n",
    "exceptions.take(1)\n",
    "\n",
    "#Here the text will visualize the content of the log file that contain a text starting with an error code:\n",
    "\n",
    "#['2017-10-06 13:12:26.097+0000 ERROR Failed to start Neo4j: Starting Neo4j failed: Component \\'org.neo4j.server.database.\n",
    "#LifecycleManagingDatabase@2814f71a\\' was successfully initialized, but failed to start. Please see the attached c ...\n",
    "\n"
   ]
  },
  {
   "cell_type": "markdown",
   "metadata": {
    "colab_type": "text",
    "ein.tags": [
     "worksheet-0"
    ],
    "id": "ZYI-SZW16aJd"
   },
   "source": [
    "## 2.2 Transformations\n",
    "\n",
    "<p align=\"justify\">\n",
    "<font size=\"3\">\n",
    "Here are some common transformations in Spark. \n",
    "In the following list, $r$ denotes the RDD on which the transformation is invoked.\n",
    "<ol>\n",
    "<li> $r.filter(pred)$. Returns a RDD consisting of only the elements of the input RDD $r$ that satisfy the given predicate.\n",
    "<li> $r.map(func)$. Applies a function $func$ to each element of the input RDD $r$ and returns an RDD of the result.\n",
    "<li> $r.flatMap(func)$. Same as $map()$, but used when $map()$ would return a RDD where each element is a list.\n",
    "<li> $r.union(other)$. Takes in two RDDs ($r$ and $other$) and returns a RDD that contains the elements from both. Unlike the mathematical operation, $union$ in Spark does not remove the duplicates.\n",
    "<li> $r.intersection(other)$. Takes in two RDDs ($r$ and $other$) and returns a RDD that contains the elements found in both.\n",
    "<li> $r.subtract(other)$. Takes in two RDDs ($r$ and $other$) and returns a RDD that contains the elements from the RDD $r$, except those that are found in $other$.\n",
    "<li> $r.cartesian(other)$. Takes in two RDDs ($r$ and $other$) and returns a RDD that contains the Cartesian product of both.\n",
    "<li> $r.distinct()$. Returns a RDD that contains the same elements as the input RDD $r$ without duplicates.\n",
    "</ol>\n",
    "    \n",
    "We are now going to look at an example of use of these transformations.\n",
    "</font>    \n",
    "</p>\n",
    "\n",
    "<hr style=\" border:2px solid;\">\n",
    "<p>\n",
    " <font size=\"3\" color='#91053d'>**Execute the following code to create the two RDDs $r1$ and $r2$**</font>\n",
    "</p>\n",
    "<hr style=\" border:2px solid;\">"
   ]
  },
  {
   "cell_type": "code",
   "execution_count": 6,
   "metadata": {
    "colab": {},
    "colab_type": "code",
    "id": "LZu-MV666aJe"
   },
   "outputs": [
    {
     "name": "stdout",
     "output_type": "stream",
     "text": [
      "done\n"
     ]
    }
   ],
   "source": [
    "r1 = sc.parallelize([1, 2, 3, 4])\n",
    "r2 = sc.parallelize([3, 4, 5, 6, 7])\n",
    "print(\"done\")"
   ]
  },
  {
   "cell_type": "markdown",
   "metadata": {
    "colab_type": "text",
    "id": "52BMdqm86aJg"
   },
   "source": [
    "### Use of $map()$\n",
    "\n",
    "<p align=\"justify\">\n",
    "<font size=\"3\">\n",
    "Here we see an example of the transformation $map()$.\n",
    "</font>\n",
    "</p>\n",
    "\n",
    "<hr style=\" border:2px solid;\">\n",
    "<p>\n",
    "<font size=\"3\" color='#91053d'>**Execute the following code to create:\n",
    " <ol>\n",
    " <li> a RDD $square$, where each element is the square of the corresponding element in $r1$; \n",
    " <li> a RDD $half$, where each element is the half of the corresponding element in $r2$.**\n",
    " </ol>\n",
    " </font>\n",
    "</p>\n",
    "<hr style=\" border:2px solid;\">"
   ]
  },
  {
   "cell_type": "code",
   "execution_count": 7,
   "metadata": {
    "colab": {},
    "colab_type": "code",
    "id": "zE0O6bg16aJh"
   },
   "outputs": [
    {
     "name": "stdout",
     "output_type": "stream",
     "text": [
      "Elements of RDD square  [1, 4, 9, 16]\n",
      "Elements of the RDD half  [1.5, 2.0, 2.5, 3.0, 3.5]\n"
     ]
    }
   ],
   "source": [
    "square = r1.map(lambda x : x*x)\n",
    "half = r2.map(lambda x: x/2)\n",
    "\n",
    "# The function collect() is an action that transforms the RDD into a Python list that can be printed.\n",
    "print(\"Elements of RDD square \", square.collect())\n",
    "print(\"Elements of the RDD half \", half.collect())"
   ]
  },
  {
   "cell_type": "markdown",
   "metadata": {
    "colab_type": "text",
    "id": "cRFQ-Cn76aJj"
   },
   "source": [
    "### Use of $flatMap()$\n",
    "\n",
    "<p align=\"justify\">\n",
    "<font size=\"3\">\n",
    "The transformation $flatMap()$ works by applying the transformation $map()$ on the input RDD; \n",
    "if each element of the resulting RDD is a list, $flatMap()$ returns a RDD where all lists are merged.\n",
    "In other words, when $map()$ returns a RDD where each element is a list, $flatMap()$ returns a RDD where each element is a value of that list.\n",
    "</font>\n",
    "</p>\n",
    "\n",
    "<p align=\"justify\">\n",
    "<font size=\"3\">\n",
    "Let's see an example. Suppose that we want to return a RDD from $r1$ where each element is associated to its square. \n",
    "More precisely, the output RDD will be as follows:\n",
    "<center>\n",
    "[ [1, 1], [2, 4], [3, 9], [4, 16] ]\n",
    "</center>\n",
    "</font>    \n",
    "</p>\n",
    "\n",
    "<hr style=\" border:solid 2px;\">\n",
    "<p>\n",
    "\n",
    " <font size=\"3\" color='#91053d'>**Execute the following code to create a RDD $squares$ where each element of $r1$ is associated to its square.**</font>\n",
    "</p>\n",
    "<hr style=\" border:solid 2px;\">"
   ]
  },
  {
   "cell_type": "code",
   "execution_count": 8,
   "metadata": {
    "colab": {},
    "colab_type": "code",
    "id": "CA1xO3B96aJj"
   },
   "outputs": [
    {
     "name": "stdout",
     "output_type": "stream",
     "text": [
      "Elements of RDD squares  [[1, 1], [2, 4], [3, 9], [4, 16]]\n"
     ]
    }
   ],
   "source": [
    "squares = r1.map(lambda x : [x, x*x])\n",
    "print(\"Elements of RDD squares \", squares.collect())"
   ]
  },
  {
   "cell_type": "markdown",
   "metadata": {
    "colab_type": "text",
    "id": "5d-9F8AF6aJl"
   },
   "source": [
    "<p align=\"justify\">\n",
    "<font size=\"3\">\n",
    "\n",
    "As you can see, each element of the RDD $squares$ is a list of two elements; indeed, \n",
    "after calling the action $collect()$, we obtain a list of lists in Python. \n",
    "If, instead, we want a simple list of elements, we have to invoke $flatMap()$ on $r1$.\n",
    "More precisely, with $flatMap()$ we obtain the following RDD:\n",
    "<center>\n",
    "[1, 1, 2, 4, 3, 9, 4, 16]\n",
    "</center>\n",
    "</font>\n",
    "</p>\n",
    "\n",
    "<hr style=\" border:solid 2px;\">\n",
    "<p>\n",
    "\n",
    " <font size=\"3\" color='#91053d'>**Execute the following code to create an RDD $squares$ where each element of $r1$ is associated to its square (but each element is just a value instead of a list of values)**</font>\n",
    "</p>\n",
    "<hr style=\" border:solid 2px;\">"
   ]
  },
  {
   "cell_type": "code",
   "execution_count": 9,
   "metadata": {
    "colab": {},
    "colab_type": "code",
    "id": "uzZSQT5x6aJl"
   },
   "outputs": [
    {
     "name": "stdout",
     "output_type": "stream",
     "text": [
      "Elements of RDD squares  [1, 1, 2, 4, 3, 9, 4, 16]\n"
     ]
    }
   ],
   "source": [
    "squares = r1.flatMap(lambda x : [x, x*x])\n",
    "print(\"Elements of RDD squares \", squares.collect())"
   ]
  },
  {
   "cell_type": "markdown",
   "metadata": {
    "colab_type": "text",
    "id": "_i1Mi0F26aJn"
   },
   "source": [
    "### Use of set transformations\n",
    "\n",
    "<p align=\"justify\">\n",
    "<font size=\"3\">\n",
    "The set transformations are $union$, $intersection$, $subtract$ and $cartesian$.\n",
    "</font>\n",
    "</p>\n",
    "\n",
    "<hr style=\" border:solid 2px;\">\n",
    "<p>\n",
    " <font size=\"3\" color='#91053d'>**Execute the following code to see an example of these transformations**</font>\n",
    "</p>\n",
    "<hr style=\" border:solid 2px;\">"
   ]
  },
  {
   "cell_type": "code",
   "execution_count": 10,
   "metadata": {
    "colab": {},
    "colab_type": "code",
    "id": "dq51szgV6aJo"
   },
   "outputs": [
    {
     "name": "stdout",
     "output_type": "stream",
     "text": [
      "Elements of RDD r1  [1, 2, 3, 4]\n",
      "Elements of RDD r2  [3, 4, 5, 6, 7]\n",
      "Elements of RDD union  [1, 2, 3, 4, 3, 4, 5, 6, 7]\n",
      "Elements of RDD intesection  [3, 4]\n",
      "Elements of RDD subtract  [1, 2]\n",
      "Elements of RDD cartesian  [(1, 3), (1, 4), (1, 5), (1, 6), (1, 7), (2, 3), (2, 4), (2, 5), (2, 6), (2, 7), (3, 3), (3, 4), (3, 5), (3, 6), (3, 7), (4, 3), (4, 4), (4, 5), (4, 6), (4, 7)]\n"
     ]
    }
   ],
   "source": [
    "union = r1.union(r2)\n",
    "intersection = r1.intersection(r2)\n",
    "subtract = r1.subtract(r2)\n",
    "cartesian = r1.cartesian(r2)\n",
    "\n",
    "print(\"Elements of RDD r1 \", r1.collect())\n",
    "print(\"Elements of RDD r2 \", r2.collect())\n",
    "print(\"Elements of RDD union \", union.collect())\n",
    "print(\"Elements of RDD intesection \", intersection.collect())\n",
    "print(\"Elements of RDD subtract \", subtract.collect())\n",
    "print(\"Elements of RDD cartesian \", cartesian.collect())\n"
   ]
  },
  {
   "cell_type": "markdown",
   "metadata": {
    "colab_type": "text",
    "id": "u3jFWhJu6aJq"
   },
   "source": [
    "### Use of $distinct()$\n",
    "\n",
    "<p align=\"justify\">\n",
    "<font size=\"3\">\n",
    "The transformation $distinct()$ returns an RDD that contains the same elements as the input RDD without the duplicates.\n",
    "</font>\n",
    "</p>\n",
    "\n",
    "<hr style=\" border:solid 2px;\">\n",
    "<p>\n",
    "<font size=\"3\" color='#91053d'>**Execute the following code to see an example of use of $distinct()$**</font>\n",
    "</p>\n",
    "<hr style=\" border:solid 2px;\">"
   ]
  },
  {
   "cell_type": "code",
   "execution_count": 11,
   "metadata": {
    "colab": {},
    "colab_type": "code",
    "id": "d75wgAdh6aJr"
   },
   "outputs": [
    {
     "name": "stdout",
     "output_type": "stream",
     "text": [
      "Elements of the RDD union:  [1, 2, 3, 4, 3, 4, 5, 6, 7]\n",
      "Elements of the RDD union (with no duplicates):  [1, 2, 3, 4, 5, 6, 7]\n"
     ]
    }
   ],
   "source": [
    "nodup = union.distinct()\n",
    "print(\"Elements of the RDD union: \", union.collect())\n",
    "print(\"Elements of the RDD union (with no duplicates): \", nodup.collect())"
   ]
  },
  {
   "cell_type": "markdown",
   "metadata": {
    "colab_type": "text",
    "ein.tags": [
     "worksheet-0"
    ],
    "id": "Xvn2Sbqp6aJt"
   },
   "source": [
    "## 2.3. Actions\n",
    "\n",
    "<p align=\"justify\">\n",
    "<font size=\"3\">\n",
    "Here are some common actions in Spark. \n",
    "As with transformations, $r$ denotes the RDD on which the action is invoked.\n",
    "\n",
    "<ol>\n",
    "<li> $r.reduce(func)$. Performs a pair-wise application of the given function $func$ to the elements of the input RDD $r$.\n",
    "<li> $r.collect()$. Returns a Python list with all the elements of the input RDD $r$.\n",
    "<li> $r.count()$. Returns the number of elements in the input RDD $r$.\n",
    "<li> $r.countByValue()$. Returns the number of times each element occurs in the input RDD $r$.\n",
    "<li> $r.take(num)$. Prints the first $num$ elements of the input RDD $r$.\n",
    "<li> $r.top(num)$. Prints the top $num$ elements of the input RDD $r$ (sorted in decreasing order).\n",
    "</ol>\n",
    "</font>\n",
    "</p>"
   ]
  },
  {
   "cell_type": "markdown",
   "metadata": {
    "colab_type": "text",
    "id": "jyJB6x1d6aJt"
   },
   "source": [
    "### Use of $reduce(func)$\n",
    "\n",
    "<p align=\"justify\">\n",
    "<font size=\"3\">\n",
    "The action $reduce(func)$ performs a pair-wise application of the given function $func$ on the elements of the input RDD. \n",
    "</font>\n",
    "</p>\n",
    "\n",
    "<hr style=\" border:solid 2px;\">\n",
    "<p>\n",
    "<font size=\"3\" color='#91053d'>**Execute the following code to sum all values of the RDD $r1$**</font>\n",
    "</p>\n",
    "<hr style=\" border:solid 2px;\">\n"
   ]
  },
  {
   "cell_type": "code",
   "execution_count": 12,
   "metadata": {
    "colab": {},
    "colab_type": "code",
    "id": "gwTi7aI06aJu"
   },
   "outputs": [
    {
     "name": "stdout",
     "output_type": "stream",
     "text": [
      "Elements of the RDD r1  [1, 2, 3, 4]\n",
      "Sum of the elements of the RDD r1:  10\n"
     ]
    }
   ],
   "source": [
    "'''\n",
    "The function passed to the reduce MUST take in two arguments \n",
    "that have the same type as the elements of the input RDD\n",
    "'''\n",
    "sum = r1.reduce(lambda x, y : x + y)\n",
    "print(\"Elements of the RDD r1 \", r1.collect())\n",
    "print(\"Sum of the elements of the RDD r1: \", sum)\n"
   ]
  },
  {
   "cell_type": "markdown",
   "metadata": {
    "colab_type": "text",
    "id": "ST2VbA386aJw"
   },
   "source": [
    "### Use of $countByValue()$\n",
    "\n",
    "<p align=\"justify\">\n",
    "<font size=\"3\">\n",
    "The action $countByValue()$ counts the number of the occurrences of each element of the input RDD.\n",
    "The result is a Python dictionary, where a key is an element of the input RDD and the corresponding value the number of its occurrences.\n",
    "</font>\n",
    "</p>\n",
    "\n",
    "<hr style=\" border:solid 2px;\">\n",
    "<p>\n",
    "\n",
    "<font size=\"3\" color='#91053d'>**Execute the following code to get the number of occurrences of each element in the RDD $union$**</font>\n",
    "\n",
    "</p>\n",
    "<hr style=\" border:solid 2px;\">"
   ]
  },
  {
   "cell_type": "code",
   "execution_count": 13,
   "metadata": {
    "colab": {},
    "colab_type": "code",
    "id": "lfbUnLJm6aJw"
   },
   "outputs": [
    {
     "name": "stdout",
     "output_type": "stream",
     "text": [
      "Elements of the RDD union  [1, 2, 3, 4, 3, 4, 5, 6, 7]\n",
      "Occurrences of each element in the RDD union:\n",
      "1  -->  1  occurrences\n",
      "2  -->  1  occurrences\n",
      "3  -->  2  occurrences\n",
      "4  -->  2  occurrences\n",
      "5  -->  1  occurrences\n",
      "6  -->  1  occurrences\n",
      "7  -->  1  occurrences\n"
     ]
    }
   ],
   "source": [
    "occurrences = union.countByValue()\n",
    "print(\"Elements of the RDD union \", union.collect())\n",
    "print(\"Occurrences of each element in the RDD union:\")\n",
    "for k, v in occurrences.items():\n",
    "    print(k, \" --> \",  v, \" occurrences\")"
   ]
  },
  {
   "cell_type": "markdown",
   "metadata": {
    "colab_type": "text",
    "id": "t_8pNaIG6aJy"
   },
   "source": [
    "# 3. Pair RDDs \n",
    "\n",
    "<p align=\"justify\">\n",
    "<font size=\"3\">\n",
    "Pair RDDs are simply RDDs where each element is a key-value pair. \n",
    "</font>\n",
    "</p>\n",
    "\n",
    "<p align=\"justify\">\n",
    "<font size=\"3\">\n",
    "We are now going to look at examples of  transformations and actions on pair RDDs.\n",
    "</font>\n",
    "</p>"
   ]
  },
  {
   "cell_type": "markdown",
   "metadata": {
    "colab_type": "text",
    "id": "MTc2eNol6aJy"
   },
   "source": [
    "## 3.1 Creation of Pair RDDs\n",
    "\n",
    "<p align=\"justify\">\n",
    "<font size=\"3\">\n",
    "One common way to create a pair RDD is to transform an existing RDD with a $map()$. \n",
    "</font>\n",
    "</p>\n",
    "\n",
    "<hr style=\" border:solid 2px;\">\n",
    "<p align=\"justify\">\n",
    "<font size=\"3\" color='#91053d'>**Execute the following code to create a Pair RDD $kvwords$ from the RDD $words$. Each element of $kvwords$ is a pair where the key is a word and the value is 1**</font>\n",
    "</p>\n",
    "<hr style=\" border:solid 2px;\">"
   ]
  },
  {
   "cell_type": "code",
   "execution_count": 14,
   "metadata": {
    "colab": {},
    "colab_type": "code",
    "id": "RATemCkH6aJy",
    "scrolled": true
   },
   "outputs": [
    {
     "name": "stdout",
     "output_type": "stream",
     "text": [
      "[('Al', 1), ('Ani', 1), ('Jackie', 1), ('Lalitha', 1), ('Mark', 1)]\n"
     ]
    }
   ],
   "source": [
    "kvwords = words.map(lambda word : (word, 1))\n",
    "print(kvwords.take(5))"
   ]
  },
  {
   "cell_type": "markdown",
   "metadata": {
    "colab_type": "text",
    "id": "DY7-8vfr6aJ1"
   },
   "source": [
    "## 3.2 Transformations on Pair RDDs\n",
    "\n",
    "\n",
    "<p align=\"justify\">\n",
    "<font size=\"3\">\n",
    "All transformations applied to standard RDDs can be applied to Pair RDDs as well. The only difference is that any function that is passed to a transformation or an action must take in pairs instead of single values.\n",
    "</font>\n",
    "</p>\n",
    "\n",
    "<p align=\"justify\">\n",
    "<font size=\"3\">\n",
    "In addition, the following transformations can **only** be applied to Pair RDDs:\n",
    "<ol>\n",
    "<li> $r.reduceByKey(func)$. It applies the given function $func$ pairwise to all elements of the input RDD $r$ that are associated to the same key. \n",
    "<li> $r.sortBy(func, asc)$. Returns an RDD where the elements of the input RDD $r$ are sorted according to the given criteria.\n",
    "<li> $r.groupByKey()$. Groups the values of the input RDD $r$ association to the same key.\n",
    "<li> $r.keys()$. Returns an RDD where the elements are the keys from the input RDD $r$.\n",
    "<li> $r.values()$. Returns an RDD where the elements are the values from the input RDD $r$.\n",
    "<li> $r.join(r1)$. Joins the values of the two RDDs $r$ and $r_1$ that have the same key.\n",
    "</ol>\n",
    "</font>\n",
    "</p>\n",
    "\n",
    "<hr style=\" border:solid 2px;\">\n",
    "<p>\n",
    "<font size=\"3\" color='#91053d'>**Execute the following code and the read the comments in the code to understand these transformations.**</font>\n",
    "</p>\n",
    "<hr style=\" border:solid 2px;\">"
   ]
  },
  {
   "cell_type": "code",
   "execution_count": 15,
   "metadata": {
    "colab": {},
    "colab_type": "code",
    "id": "jpYqHqeR6aJ1",
    "scrolled": true
   },
   "outputs": [
    {
     "name": "stdout",
     "output_type": "stream",
     "text": [
      "Key-value pairs [(2, 'do'), (3, 'you'), (5, 'enjoy'), (4, 'this'), (8, 'exercise'), (1, '?'), (3, 'yes'), (1, 'I'), (4, 'hope')]\n",
      "\n",
      "Ordered key-value pairs [(8, 'exercise'), (5, 'enjoy'), (4, 'this'), (4, 'hope'), (3, 'you'), (3, 'yes'), (2, 'do'), (1, '?'), (1, 'I')]\n",
      "\n",
      "Group by key [(8, <pyspark.resultiterable.ResultIterable object at 0x7fc26dc21090>), (4, <pyspark.resultiterable.ResultIterable object at 0x7fc26dc21050>), (5, <pyspark.resultiterable.ResultIterable object at 0x7fc26dc21190>), (1, <pyspark.resultiterable.ResultIterable object at 0x7fc26dc21250>), (2, <pyspark.resultiterable.ResultIterable object at 0x7fc26dc212d0>), (3, <pyspark.resultiterable.ResultIterable object at 0x7fc26dc21310>)]\n",
      "\n",
      "Alternative group by key [(8, ['exercise']), (4, ['this', 'hope']), (5, ['enjoy']), (1, ['?', 'I']), (2, ['do']), (3, ['you', 'yes'])]\n",
      "\n",
      "Keys [8, 4, 5, 1, 2, 3]\n",
      "\n",
      "Values [['exercise'], ['this', 'hope'], ['enjoy'], ['?', 'I'], ['do'], ['you', 'yes']]\n"
     ]
    }
   ],
   "source": [
    "'''\n",
    "Create a RDD, where each item is a string s.\n",
    "'''\n",
    "sample_rdd = sc.parallelize(['do', 'you', 'enjoy', 'this', 'exercise', '?', 'yes', 'I', 'hope'])\n",
    "\n",
    "'''\n",
    "Transform the sample_rdd into one, where each item is (len(s), s)\n",
    "'''\n",
    "sample_rdd = sample_rdd.map(lambda x: (len(x), x))\n",
    "print(\"Key-value pairs\", sample_rdd.collect())\n",
    "\n",
    "'''\n",
    "Transform the previous rdd into one where items are sorted by key in descending order.\n",
    "In the following instruction, x represents an item of the input RDD (a tuple (len(s), s)),\n",
    "x[0] denotes the first element in the tuple (that is, len(s)).\n",
    "'''\n",
    "\n",
    "sample_rdd = sample_rdd.sortBy(lambda x: x[0], ascending=False)\n",
    "print(\"\\nOrdered key-value pairs\", sample_rdd.collect())\n",
    "\n",
    "'''\n",
    "Group items by key by using \n",
    "groupByKey(). \n",
    "The result is a RDD, where each item is (k, L), k is an integer, L is an iterable, \n",
    "an object that allows one to iterate over a list.\n",
    "'''\n",
    "sample_rdd_gbk = sample_rdd.groupByKey()\n",
    "print(\"\\nGroup by key\", sample_rdd_gbk.collect())\n",
    "\n",
    "'''\n",
    "Alternatively, grouping by key can also be achieved with the two following instructions.\n",
    "The result, however, will be a RDD, where each item is (k, L), k is an integer and \n",
    "L is a list (not an iterable as before). \n",
    "'''\n",
    "# The following instruction transforms each tuple (len(s), s) of the input RDD into a tuple\n",
    "# (len(s), [s]); the second element of the tuple becomes a list.\n",
    "sample_rdd_gbk_alternative = sample_rdd.map(lambda x: (x[0], [x[1]]))\n",
    "\n",
    "# \n",
    "# Given two tuples of the input RDD (len(s1), [s1]) and (len(s2), [s2]), \n",
    "# in the following instruction x and y are [s1] and [s2] respectively. \n",
    "# The instruction x + y concatenate the two lists \n",
    "# [s1] and [s2], which gives the list [s1, s2].\n",
    "\n",
    "sample_rdd_gbk_alternative = sample_rdd_gbk_alternative.reduceByKey(lambda x, y: x+y)\n",
    "print(\"\\nAlternative group by key\", sample_rdd_gbk_alternative.collect())\n",
    "\n",
    "'''\n",
    "Obtain a RDDcontaining the keys of the RDD sample_rdd_gbk_alternative.\n",
    "'''\n",
    "keys = sample_rdd_gbk_alternative.keys()\n",
    "print(\"\\nKeys\", keys.collect())\n",
    "\n",
    "'''\n",
    "Obtain a RDD containing the values  of the RDD sample_rdd_gbk_alternative.\n",
    "'''\n",
    "values = sample_rdd_gbk_alternative.values()\n",
    "print(\"\\nValues\", values.collect())"
   ]
  },
  {
   "cell_type": "markdown",
   "metadata": {
    "colab_type": "text",
    "id": "Cqqk0vR76aJ3"
   },
   "source": [
    "### The transformation join\n",
    "\n",
    "Let $r1$ and $r_2$ two pair RDDs. \n",
    "If $(k, v1)$ and $(k, v2)$ are two elements of $r_1$ and $r_2$ respectively, \n",
    "the result of $r1.join(r2)$ contains the pair $(k, (v1, v2))$.\n",
    "\n"
   ]
  },
  {
   "cell_type": "code",
   "execution_count": 16,
   "metadata": {
    "colab": {},
    "colab_type": "code",
    "id": "k-GamaxI6aJ3"
   },
   "outputs": [
    {
     "data": {
      "text/plain": [
       "[('third', (3, 9)), ('first', (1, 2)), ('second', (2, 4))]"
      ]
     },
     "execution_count": 16,
     "metadata": {},
     "output_type": "execute_result"
    }
   ],
   "source": [
    "r1 = sc.parallelize([('first', 1), ('second', 2), ('third', 3)])\n",
    "r2 = sc.parallelize([('first', 2), ('second', 4), ('third', 9)])\n",
    "\n",
    "rdd_join = r1.join(r2)\n",
    "rdd_join.collect()"
   ]
  },
  {
   "cell_type": "markdown",
   "metadata": {
    "autoscroll": "json-false",
    "colab_type": "text",
    "collapsed": true,
    "ein.tags": [
     "worksheet-0"
    ],
    "id": "yh8d3UNb6aJ4"
   },
   "source": [
    "<hr style=\" border:solid 2px;\">\n",
    "<p align=\"justify\">\n",
    "<font size=\"3\">\n",
    "An elegant way to write a sequence of transformations is shown in the following \n",
    "code. \n",
    "The tranformations are chained one after the other; each line contains a transformation.\n",
    "The symbol \"\\\" indicates that the Python instruction continues in the following line.\n",
    "We recommend you to use this style in the exercises that you'll be asked to \n",
    "do later.\n",
    "</font>\n",
    "</p>\n",
    "<hr style=\" border:solid 2px;\">"
   ]
  },
  {
   "cell_type": "code",
   "execution_count": 17,
   "metadata": {
    "colab": {},
    "colab_type": "code",
    "id": "TiNIMjXk6aJ5"
   },
   "outputs": [
    {
     "data": {
      "text/plain": [
       "[(8, ['exercise']),\n",
       " (5, ['enjoy']),\n",
       " (4, ['this', 'hope']),\n",
       " (3, ['you', 'yes']),\n",
       " (2, ['do']),\n",
       " (1, ['?', 'I'])]"
      ]
     },
     "execution_count": 17,
     "metadata": {},
     "output_type": "execute_result"
    }
   ],
   "source": [
    "'''\n",
    "Create a RDD, where each item is a string s.\n",
    "'''\n",
    "sample_rdd = sc.parallelize(['do', 'you', 'enjoy', 'this', 'exercise', '?', 'yes', 'I', 'hope'])\\\n",
    "                .map(lambda x: (len(x), x))\\\n",
    "                .map(lambda x: (x[0], [x[1]]))\\\n",
    "                .reduceByKey(lambda x, y: x+y)\\\n",
    "                .sortBy(lambda x: x[0], ascending=False)\n",
    "\n",
    "sample_rdd.collect()"
   ]
  },
  {
   "cell_type": "markdown",
   "metadata": {
    "colab_type": "text",
    "id": "hqRPyKhr6aJ6"
   },
   "source": [
    "## 3.3 Actions on Pair RDDs\n",
    "\n",
    "<p justify=\"align\">\n",
    "<font size=\"3\">\n",
    "As with the transformations, all actions available for standard RDDs can be used on Pair RDDs as well.\n",
    "In addition, the following actions can be performed on Pair RDDs:\n",
    "<ol>\n",
    "<li> $countByKey()$. Returns a Python dictionary, where each key is mapped to the number of values associated to that key.\n",
    "<li> $collectAsMap()$. Collects the RDD as a dictionary (in the same way as the function $collect()$ returns a list from a standard RDD).\n",
    "<li> $lookup(key)$. Returns a list with all the values associated with the given _key_.\n",
    "</ol>\n",
    "</font>\n",
    "</p>\n"
   ]
  },
  {
   "cell_type": "markdown",
   "metadata": {
    "colab_type": "text",
    "id": "KDqQdiUU6aJ7"
   },
   "source": [
    "# 4. Exercises \n",
    "\n",
    "<p align=\"justify\">\n",
    "<font size=\"3\">\n",
    "In the following exercises, you'll have to use RDD transformations/actions to implement some computations.\n",
    "</font>\n",
    "</p>\n"
   ]
  },
  {
   "cell_type": "markdown",
   "metadata": {
    "colab_type": "text",
    "id": "nGgqHoUE6aJ7"
   },
   "source": [
    "<hr style=\"border:solid 2px;\">\n",
    "\n",
    "##  Exercise 4.1\n",
    "\n",
    "\n",
    "<p align=\"justify\">\n",
    "<font size=\"3\">\n",
    "Write the code to create an RDD from the input text file './data/moby-dick.txt' .\n",
    "</font>\n",
    "</p>\n",
    "<hr style=\"border:solid 2px;\">"
   ]
  },
  {
   "cell_type": "code",
   "execution_count": 18,
   "metadata": {
    "colab": {},
    "colab_type": "code",
    "id": "FpbYLc7v6aJ7"
   },
   "outputs": [],
   "source": [
    "def load_text(filename):\n",
    "    return sc.textFile(filename)\n",
    "\n",
    "mobydick = load_text('moby-dick.txt')"
   ]
  },
  {
   "cell_type": "markdown",
   "metadata": {
    "colab_type": "text",
    "id": "AXDzNzFx6aJ9"
   },
   "source": [
    "<hr style=\"border:solid 2px;\">\n",
    "\n",
    "##  Exercise 4.2\n",
    "\n",
    "<p align=\"justify\">\n",
    "<font size=\"3\">\n",
    "We want to code a function $preprocess()$ that takes in the content of a text file, filters out useless words and\n",
    "returns the remaining words.\n",
    "This function has the following input and output:\n",
    "<ul>\n",
    " <li> **Input.** A RDD $text$, where each element is a line of a text file, and a Python list $stopwords$ that \n",
    "      contains the most common English *stopwords* (e.g., 'the', 'in', 'of'), that only serve a grammatical purpose, while adding little or no meaning to the other words in the file.\n",
    "<li> **Output.** A RDD, where each element is a word.\n",
    "</ul>\n",
    "</font>\n",
    "</p>\n",
    "\n",
    "<p align=\"justify\">\n",
    "<font size=\"3\" color='#91053d'>\n",
    "**Complete the code of the function $preprocess()$ with the following steps:**\n",
    "<ol>\n",
    "<li>    Split each line into its constituent words (Python has a function $split$).\n",
    "<li>    Eliminate non-letter characters from each word.\n",
    "<li>    Filter out empty words (words with length 0).\n",
    "<li>    Lowercase all words (Python has a function $lower$).\n",
    "<li>    Remove the stopwords.\n",
    "</ol>\n",
    "<ul>\n",
    "<li> **IMPORTANT:** only use RDD transformations/actions, which guarantees that the computation will be distributed.\n",
    "<li> At the bottom of the next cell, you'll find the expected output, so you'll know if your implementation is correct. 👍🏻\n",
    "</ul>\n",
    "</font>\n",
    "</p>\n",
    "\n",
    "<hr style=\"border:solid 2px;\">"
   ]
  },
  {
   "cell_type": "code",
   "execution_count": 19,
   "metadata": {
    "colab": {},
    "colab_type": "code",
    "id": "eW0nzNS96aJ9"
   },
   "outputs": [
    {
     "data": {
      "text/plain": [
       "['aback',\n",
       " 'aback',\n",
       " 'abaft',\n",
       " 'abaft',\n",
       " 'abandon',\n",
       " 'abandon',\n",
       " 'abandon',\n",
       " 'abandoned',\n",
       " 'abandoned',\n",
       " 'abandoned']"
      ]
     },
     "execution_count": 19,
     "metadata": {},
     "output_type": "execute_result"
    }
   ],
   "source": [
    "import re\n",
    "\n",
    "\n",
    "# Regular expression for removing all non-letter characters in the file.\n",
    "regex = re.compile('[^a-zA-Z ]')\n",
    "\n",
    "'''\n",
    "Removes any non-letter character from the given word.\n",
    "\n",
    "INPUT:\n",
    "        word: A word\n",
    "\n",
    "OUTPUT:\n",
    "        the input word without the non-letter characters.\n",
    "\n",
    "'''\n",
    "def remove_non_letters(word):\n",
    "    return regex.sub('', word)\n",
    "\n",
    "\n",
    "'''\n",
    "INPUT: \n",
    "        text: RDD where each element is a line of the input text file.\n",
    "        stopwords: Python list containing the stopwords.\n",
    "OUTPUT: \n",
    "        RDD where each element is a word from the input text file.\n",
    "'''\n",
    "def preprocess(text, stopwords):\n",
    "    '''############## WRITE YOUR CODE HERE ##############'''\n",
    "    words = text.flatMap(lambda line: line.split(\" \"))\\\n",
    "                .map(lambda word: remove_non_letters(word))\\\n",
    "                .filter(lambda word: len(word) > 0)\\\n",
    "                .map(lambda word: word.lower())\\\n",
    "                .filter(lambda word: word not in stopwords)\n",
    "    return words\n",
    "    \n",
    "    '''############## END OF THE EXERCISE ##############'''\n",
    "\n",
    "'''\n",
    "INPUT: \n",
    "        stopwords_file: name of the file containing the stopwords.\n",
    "OUTPUT:\n",
    "        a Python list with the stopwords read from the file.\n",
    "'''\n",
    "def load_stopwords(stopwords_file):\n",
    "    stopwords = []\n",
    "    with open(stopwords_file) as file:\n",
    "        for sw in file:\n",
    "            stopwords.append(sw.strip())\n",
    "    return stopwords\n",
    "\n",
    "stopwords = load_stopwords(\"stopwords.txt\")\n",
    "words = preprocess(mobydick, stopwords)\n",
    "words.takeOrdered(10, key = lambda x: x)\n",
    "\n",
    "################# EXPECTED OUTPUT #################\n",
    "#\n",
    "# ['aback',\n",
    "# 'aback',\n",
    "# 'abaft',\n",
    "# 'abaft',\n",
    "# 'abandon',\n",
    "# 'abandon',\n",
    "# 'abandon',\n",
    "# 'abandoned',\n",
    "# 'abandoned',\n",
    "# 'abandoned']\n",
    "#\n",
    "###################################################"
   ]
  },
  {
   "cell_type": "markdown",
   "metadata": {
    "colab_type": "text",
    "id": "4fGbui0-6aJ_"
   },
   "source": [
    "<hr style=\"border:solid 2px;\">\n",
    "\n",
    "##  Exercise 4.3\n",
    "\n",
    "<p align=\"justify\">\n",
    "<font size=\"3\">\n",
    "We want to write the code of the function $word\\_count$ that counts the number of occurrences of each word in a text file.\n",
    "The function has the following input and output:\n",
    "<ul>\n",
    "<li> **Input.** A RDD $words$, where each element is a word from a text file $d$ (pre-processing already done 👍🏻).\n",
    "<li> **Output.** A RDD, where each element is $(w, f_{w, d})$, $w$ being a word and $f_{w, d}$ being the number of times $w$ appears in $d$. The output RDD must be sorted by $f_{w, d}$ in decreasing order.\n",
    "</ul>\n",
    "</font>\n",
    "</p>\n",
    "\n",
    "<p align=\"justify\">\n",
    "<font size=\"3\" color='#91053d'>\n",
    "**Write the code of the function $word\\_count()$.**\n",
    "</font>\n",
    "</p>\n",
    "\n",
    "<hr style=\"border:solid 2px;\">"
   ]
  },
  {
   "cell_type": "code",
   "execution_count": 20,
   "metadata": {
    "colab": {},
    "colab_type": "code",
    "id": "9WlplKBu6aJ_"
   },
   "outputs": [
    {
     "data": {
      "text/plain": [
       "[('whale', 891), ('one', 875), ('old', 436), ('man', 433), ('ahab', 417)]"
      ]
     },
     "execution_count": 20,
     "metadata": {},
     "output_type": "execute_result"
    }
   ],
   "source": [
    "'''\n",
    "INPUT:\n",
    "        words: RDD, where each element is word from the input text file (preprocessing already done!).\n",
    "OUTPUT:\n",
    "        RDD, where each element is (w, occ), w is a word and occ the number of occurrences of w.\n",
    "        The RDD is sorted by value in decreasing order.\n",
    "'''\n",
    "def word_count(words):\n",
    "    '''############## WRITE YOUR CODE HERE ##############'''\n",
    "    \n",
    "    occs = words.map(lambda word: (word, 1))\\\n",
    "                .reduceByKey(lambda x, y: x+y)\\\n",
    "                .sortBy(lambda f: f[1], ascending=False)\n",
    "    return occs\n",
    "    \n",
    "    '''############## END OF THE EXERCISE ##############'''\n",
    "\n",
    "occs = word_count(words)\n",
    "occs.take(5)\n",
    "\n",
    "################# EXPECTED OUTPUT #################\n",
    "#\n",
    "# [('whale', 891), ('one', 875), ('old', 436), ('man', 433), ('ahab', 417)]\n",
    "#\n",
    "###################################################\n"
   ]
  }
 ],
 "metadata": {
  "anaconda-cloud": {},
  "colab": {
   "name": "spark-intro-exercises-colab.ipynb",
   "provenance": [],
   "toc_visible": true
  },
  "kernelspec": {
   "display_name": "Python 3",
   "language": "python",
   "name": "python3"
  },
  "language_info": {
   "codemirror_mode": {
    "name": "ipython",
    "version": 3
   },
   "file_extension": ".py",
   "mimetype": "text/x-python",
   "name": "python",
   "nbconvert_exporter": "python",
   "pygments_lexer": "ipython3",
   "version": "3.7.6"
  },
  "name": "BE4-Spark.ipynb"
 },
 "nbformat": 4,
 "nbformat_minor": 1
}
